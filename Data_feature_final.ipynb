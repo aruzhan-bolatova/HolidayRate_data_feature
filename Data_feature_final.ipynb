{
  "nbformat": 4,
  "nbformat_minor": 0,
  "metadata": {
    "colab": {
      "provenance": [],
      "authorship_tag": "ABX9TyOae7/BuYOwsvvfmEu074ky",
      "include_colab_link": true
    },
    "kernelspec": {
      "name": "python3",
      "display_name": "Python 3"
    },
    "language_info": {
      "name": "python"
    }
  },
  "cells": [
    {
      "cell_type": "markdown",
      "metadata": {
        "id": "view-in-github",
        "colab_type": "text"
      },
      "source": [
        "<a href=\"https://colab.research.google.com/github/aruzhan-bolatova/HolidayRate_data_feature/blob/main/Data_feature_final.ipynb\" target=\"_parent\"><img src=\"https://colab.research.google.com/assets/colab-badge.svg\" alt=\"Open In Colab\"/></a>"
      ]
    },
    {
      "cell_type": "markdown",
      "source": [
        "This **HolidayRate** data feature provides a handy tool for travelers looking to **find the cheapest flights during holidays**. It leverages two powerful APIs, Calendarific and Amadeus, to achieve this:\n",
        "\n",
        "- [Calendarific API](https://calendarific.com/): This API is used to fetch a list of holidays for a specified country and month. The notebook prompts the user to input the country and month they are interested in and retrieves the corresponding holiday data.\n",
        "\n",
        "- [Amadeus API](https://developers.amadeus.com/self-service): This API is the backbone of the flight search functionality. Once the holidays are identified, the notebook uses the Amadeus API to retrieve flight information for each holiday date. This includes details like departure and arrival airports, flight dates, and, most importantly, the total price of the flight.\n",
        "\n",
        "**Key Features:**\n",
        "\n",
        "- Holiday-Specific Flight Prices: The tool retrieves flight prices specifically for the holiday dates, allowing users to see how prices fluctuate during these peak travel times.\n",
        "\n",
        "- Price Comparison: Users can compare flight prices for different holidays within the same month to identify the most affordable travel dates.\n",
        "\n",
        "- Normal Date Comparison: The tool also allows users to input a non-holiday date to compare flight prices and see the potential cost savings of traveling outside of holiday periods.\n",
        "\n",
        "This data feature empowers travelers to make informed decisions about their travel plans, potentially saving them money by identifying cheaper flights during holidays.\n",
        "\n",
        "**Future Improvements:**\n",
        "\n",
        "- Adding a feature to automatically consider the next year if the selected month has already passed in the current year without a need to specifically input a year\n",
        "\n",
        "- Customize Flight Offers: Number of passengers, Cabin class, Number of stops, Airlines\n",
        "\n",
        "- Improve IATA Code Retrieval: The current method for obtaining IATA codes is scraping a website, which has errors in its data (i.e. Astana - 'TSE' is incorrect, should be 'NQZ').\n",
        "Investigate alternative data sources for IATA codes.\n",
        "\n",
        "- Data Validation: Implement checks to ensure that the user inputs are valid, such as checking if the country code exists,validating the date format, confirming that the IATA codes are valid"
      ],
      "metadata": {
        "id": "MUq6JAlu2mL7"
      }
    },
    {
      "cell_type": "code",
      "source": [
        "#setting up API keys and testing if they can be successfully retrieved\n",
        "from google.colab import userdata\n",
        "import requests\n",
        "import json\n",
        "\n",
        "CALENDARIFIC_API_KEY = userdata.get('CALENDARIFIC_API_KEY')\n",
        "AMADEUS_API_KEY = userdata.get('AMADEUS_API_KEY')\n",
        "\n",
        "if CALENDARIFIC_API_KEY:\n",
        "  print(\"CALENDARIFIC_API_KEY is set\")\n",
        "else:\n",
        "  print(\"CALENDARIFIC_API_KEY is not set\")\n",
        "\n",
        "if AMADEUS_API_KEY:\n",
        "  print(\"AMADEUS_API_KEY is set\")\n",
        "else:\n",
        "  print(\"AMADEUS_API_KEY is not set\")"
      ],
      "metadata": {
        "colab": {
          "base_uri": "https://localhost:8080/"
        },
        "id": "NLblGwdb20lZ",
        "outputId": "9550c5a3-4b00-4ebd-c876-1310aee40c75"
      },
      "execution_count": 30,
      "outputs": [
        {
          "output_type": "stream",
          "name": "stdout",
          "text": [
            "CALENDARIFIC_API_KEY is set\n",
            "AMADEUS_API_KEY is set\n"
          ]
        }
      ]
    },
    {
      "cell_type": "code",
      "source": [
        "#Function to get access token for Amadeus API\n",
        "def get_access_token():\n",
        "\n",
        "  # Set the credentials\n",
        "  AMADEUS_API_SECRET = userdata.get('AMADEUS_API_SECRET')\n",
        "  AMADEUS_API_KEY = userdata.get('AMADEUS_API_KEY')\n",
        "\n",
        "  # Define the URL and the request parameters\n",
        "  url = \"https://test.api.amadeus.com/v1/security/oauth2/token\"\n",
        "  headers = {\n",
        "      \"Content-Type\": \"application/x-www-form-urlencoded\"\n",
        "  }\n",
        "  data = {\n",
        "      \"grant_type\": \"client_credentials\",\n",
        "      \"client_id\": AMADEUS_API_KEY,\n",
        "      \"client_secret\": AMADEUS_API_SECRET\n",
        "  }\n",
        "\n",
        "  # Make the request to get the access token\n",
        "  response = requests.post(url, headers=headers, data=data)\n",
        "\n",
        "  # Check if the request was successful\n",
        "  if response.status_code == 200:\n",
        "      # Extract the access token from the response JSON\n",
        "      access_token = response.json().get('access_token')\n",
        "      # print(f\"Access token: {access_token}\")\n",
        "      return access_token\n",
        "  else:\n",
        "      print(f\"Failed to get access token: {response.status_code}, {response.text}\")\n",
        "      return None\n"
      ],
      "metadata": {
        "id": "Mco3bslVBi5l"
      },
      "execution_count": 48,
      "outputs": []
    },
    {
      "cell_type": "code",
      "source": [
        "#Setting up access to Google Sheets from Colab notebook\n",
        "!pip install --upgrade gspread\n",
        "from google.colab import auth\n",
        "auth.authenticate_user()"
      ],
      "metadata": {
        "colab": {
          "base_uri": "https://localhost:8080/"
        },
        "id": "tqJwEcX0KZJ8",
        "outputId": "770134c0-9c0c-4d8f-affa-355e96cbe91c"
      },
      "execution_count": 49,
      "outputs": [
        {
          "output_type": "stream",
          "name": "stdout",
          "text": [
            "Requirement already satisfied: gspread in /usr/local/lib/python3.10/dist-packages (6.1.2)\n",
            "Requirement already satisfied: google-auth>=1.12.0 in /usr/local/lib/python3.10/dist-packages (from gspread) (2.27.0)\n",
            "Requirement already satisfied: google-auth-oauthlib>=0.4.1 in /usr/local/lib/python3.10/dist-packages (from gspread) (1.2.1)\n",
            "Requirement already satisfied: cachetools<6.0,>=2.0.0 in /usr/local/lib/python3.10/dist-packages (from google-auth>=1.12.0->gspread) (5.5.0)\n",
            "Requirement already satisfied: pyasn1-modules>=0.2.1 in /usr/local/lib/python3.10/dist-packages (from google-auth>=1.12.0->gspread) (0.4.0)\n",
            "Requirement already satisfied: rsa<5,>=3.1.4 in /usr/local/lib/python3.10/dist-packages (from google-auth>=1.12.0->gspread) (4.9)\n",
            "Requirement already satisfied: requests-oauthlib>=0.7.0 in /usr/local/lib/python3.10/dist-packages (from google-auth-oauthlib>=0.4.1->gspread) (1.3.1)\n",
            "Requirement already satisfied: pyasn1<0.7.0,>=0.4.6 in /usr/local/lib/python3.10/dist-packages (from pyasn1-modules>=0.2.1->google-auth>=1.12.0->gspread) (0.6.0)\n",
            "Requirement already satisfied: oauthlib>=3.0.0 in /usr/local/lib/python3.10/dist-packages (from requests-oauthlib>=0.7.0->google-auth-oauthlib>=0.4.1->gspread) (3.2.2)\n",
            "Requirement already satisfied: requests>=2.0.0 in /usr/local/lib/python3.10/dist-packages (from requests-oauthlib>=0.7.0->google-auth-oauthlib>=0.4.1->gspread) (2.32.3)\n",
            "Requirement already satisfied: charset-normalizer<4,>=2 in /usr/local/lib/python3.10/dist-packages (from requests>=2.0.0->requests-oauthlib>=0.7.0->google-auth-oauthlib>=0.4.1->gspread) (3.3.2)\n",
            "Requirement already satisfied: idna<4,>=2.5 in /usr/local/lib/python3.10/dist-packages (from requests>=2.0.0->requests-oauthlib>=0.7.0->google-auth-oauthlib>=0.4.1->gspread) (3.8)\n",
            "Requirement already satisfied: urllib3<3,>=1.21.1 in /usr/local/lib/python3.10/dist-packages (from requests>=2.0.0->requests-oauthlib>=0.7.0->google-auth-oauthlib>=0.4.1->gspread) (2.0.7)\n",
            "Requirement already satisfied: certifi>=2017.4.17 in /usr/local/lib/python3.10/dist-packages (from requests>=2.0.0->requests-oauthlib>=0.7.0->google-auth-oauthlib>=0.4.1->gspread) (2024.8.30)\n"
          ]
        }
      ]
    },
    {
      "cell_type": "code",
      "source": [
        "#Extracts information about country names and codes from Google Sheets\n",
        "import gspread\n",
        "from google.auth import default\n",
        "\n",
        "creds, _ = default()\n",
        "gc = gspread.authorize(creds)\n",
        "\n",
        "# Open the Google Sheet\n",
        "sheet = gc.open('countries code').sheet1\n",
        "\n",
        "# Get all values from the sheet\n",
        "data = sheet.get_all_values()\n",
        "\n",
        "# Convert to a dictionary\n",
        "country_codes = {row[0]: row[1] for row in data}\n",
        "\n",
        "print(country_codes)"
      ],
      "metadata": {
        "colab": {
          "base_uri": "https://localhost:8080/"
        },
        "id": "ezXKYVhLKhAp",
        "outputId": "7c4fd592-3d58-467d-863c-aa419fb46963"
      },
      "execution_count": 50,
      "outputs": [
        {
          "output_type": "stream",
          "name": "stdout",
          "text": [
            "{'Afghanistan': 'af', 'Albania': 'al', 'Algeria': 'dz', 'American Samoa': 'as', 'Andorra': 'ad', 'Angola': 'ao', 'Anguilla': 'ai', 'Antigua and Barbuda': 'ag', 'Argentina': 'ar', 'Armenia': 'am', 'Aruba': 'aw', 'Australia': 'au', 'Austria': 'at', 'Azerbaijan': 'az', 'Bahrain': 'bh', 'Bangladesh': 'bd', 'Barbados': 'bb', 'Belarus': 'by', 'Belgium': 'be', 'Belize': 'bz', 'Benin': 'bj', 'Bermuda': 'bm', 'Bhutan': 'bt', 'Bolivia': 'bo', 'Bosnia and Herzegovina': 'ba', 'Botswana': 'bw', 'Brazil': 'br', 'British Virgin Islands': 'vg', 'Brunei': 'bn', 'Bulgaria': 'bg', 'Burkina Faso': 'bf', 'Burundi': 'bi', 'Cabo Verde': 'cv', 'Cambodia': 'kh', 'Cameroon': 'cm', 'Canada': 'ca', 'Cayman Islands': 'ky', 'Central African Republic': 'cf', 'Chad': 'td', 'Chile': 'cl', 'China': 'cn', 'Colombia': 'co', 'Comoros': 'km', 'Congo': 'cg', 'Congo Democratic Republic': 'cd', 'Cook Islands': 'ck', 'Costa Rica': 'cr', \"Cote d'Ivoire\": 'ci', 'Croatia': 'hr', 'Cuba': 'cu', 'Curaçao': 'cw', 'Cyprus': 'cy', 'Czech Republic': 'cz', 'Denmark': 'dk', 'Djibouti': 'dj', 'Dominica': 'dm', 'Dominican Republic': 'do', 'East Timor': 'tl', 'Ecuador': 'ec', 'Egypt': 'eg', 'El Salvador': 'sv', 'Equatorial Guinea': 'gq', 'Eritrea': 'er', 'Estonia': 'ee', 'Ethiopia': 'et', 'Falkland Islands': 'fk', 'Faroe Islands': 'fo', 'Fiji': 'fj', 'Finland': 'fi', 'France': 'fr', 'French Polynesia': 'pf', 'Gabon': 'ga', 'Gambia': 'gm', 'Georgia': 'ge', 'Germany': 'de', 'Ghana': 'gh', 'Gibraltar': 'gi', 'Greece': 'gr', 'Greenland': 'gl', 'Grenada': 'gd', 'Guam': 'gu', 'Guatemala': 'gt', 'Guernsey': 'gg', 'Guinea': 'gn', 'Guinea-Bissau': 'gw', 'Guyana': 'gy', 'Haiti': 'ht', 'Holy See (Vatican City)': 'va', 'Honduras': 'hn', 'Hong Kong': 'hk', 'Hungary': 'hu', 'Iceland': 'is', 'India': 'in', 'Indonesia': 'id', 'Iran': 'ir', 'Iraq': 'iq', 'Ireland': 'ie', 'Isle of Man': 'im', 'Israel': 'il', 'Italy': 'it', 'Jamaica': 'jm', 'Japan': 'jp', 'Jersey': 'je', 'Jordan': 'jo', 'Kazakhstan': 'kz', 'Kenya': 'ke', 'Kiribati': 'ki', 'Kosovo': 'xk', 'Kuwait': 'kw', 'Kyrgyzstan': 'kg', 'Laos': 'la', 'Latvia': 'lv', 'Lebanon': 'lb', 'Lesotho': 'ls', 'Liberia': 'lr', 'Libya': 'ly', 'Liechtenstein': 'li', 'Lithuania': 'lt', 'Luxembourg': 'lu', 'Macau': 'mo', 'Madagascar': 'mg', 'Malawi': 'mw', 'Malaysia': 'my', 'Maldives': 'mv', 'Mali': 'ml', 'Malta': 'mt', 'Marshall Islands': 'mh', 'Martinique': 'mq', 'Mauritania': 'mr', 'Mauritius': 'mu', 'Mayotte': 'yt', 'Mexico': 'mx', 'Micronesia': 'fm', 'Moldova': 'md', 'Monaco': 'mc', 'Mongolia': 'mn', 'Montenegro': 'me', 'Montserrat': 'ms', 'Morocco': 'ma', 'Mozambique': 'mz', 'Myanmar': 'mm', 'Namibia': 'na', 'Nauru': 'nr', 'Nepal': 'np', 'Netherlands': 'nl', 'New Caledonia': 'nc', 'New Zealand': 'nz', 'Nicaragua': 'ni', 'Niger': 'ne', 'Nigeria': 'ng', 'North Korea': 'kp', 'North Macedonia': 'mk', 'Northern Mariana Islands': 'mp', 'Norway': 'no', 'Oman': 'om', 'Pakistan': 'pk', 'Palau': 'pw', 'Panama': 'pa', 'Papua New Guinea': 'pg', 'Paraguay': 'py', 'Peru': 'pe', 'Philippines': 'ph', 'Poland': 'pl', 'Portugal': 'pt', 'Puerto Rico': 'pr', 'Qatar': 'qa', 'Reunion': 're', 'Romania': 'ro', 'Russia': 'ru', 'Rwanda': 'rw', 'Saint Helena': 'sh', 'Saint Kitts and Nevis': 'kn', 'Saint Lucia': 'lc', 'Saint Martin': 'mf', 'Saint Pierre and Miquelon': 'pm', 'Saint Vincent and the Grenadines': 'vc', 'Samoa': 'ws', 'San Marino': 'sm', 'Sao Tome and Principe': 'st', 'Saudi Arabia': 'sa', 'Senegal': 'sn', 'Serbia': 'rs', 'Seychelles': 'sc', 'Sierra Leone': 'sl', 'Singapore': 'sg', 'Sint Maarten': 'sx', 'Slovakia': 'sk', 'Slovenia': 'si', 'Solomon Islands': 'sb', 'Somalia': 'so', 'South Africa': 'za', 'South Korea': 'kr', 'South Sudan': 'ss', 'Spain': 'es', 'Sri Lanka': 'lk', 'St. Barts': 'bl', 'Sudan': 'sd', 'Suriname': 'sr', 'Sweden': 'se', 'Switzerland': 'ch', 'Syria': 'sy', 'Taiwan': 'tw', 'Tajikistan': 'tj', 'Tanzania': 'tz', 'Thailand': 'th', 'The Bahamas': 'bs', 'Togo': 'tg', 'Tonga': 'to', 'Trinidad and Tobago': 'tt', 'Tunisia': 'tn', 'Turkey': 'tr', 'Turkmenistan': 'tm', 'Turks and Caicos Islands': 'tc', 'Tuvalu': 'tv', 'US Virgin Islands': 'vi', 'Uganda': 'ug', 'Ukraine': 'ua', 'United Arab Emirates': 'ae', 'United Kingdom': 'gb', 'United States': 'us', 'Uruguay': 'uy', 'Uzbekistan': 'uz', 'Vanuatu': 'vu', 'Venezuela': 've', 'Vietnam': 'vn', 'Wallis and Futuna': 'wf', 'Yemen': 'ye', 'Zambia': 'zm', 'Zimbabwe': 'zw'}\n"
          ]
        }
      ]
    },
    {
      "cell_type": "code",
      "source": [
        "#Function to retrieve holidays information from Calendarific API based on input country and month from user\n",
        "def get_holiday_data(country_code, input_year, input_month):\n",
        "  url = f\"https://calendarific.com/api/v2/holidays?api_key={CALENDARIFIC_API_KEY}&country={country_code}&year={input_year}&month={input_month}\"\n",
        "  response = requests.get(url)\n",
        "  data = response.json()\n",
        "  #print(data)\n",
        "\n",
        "  # Extracting the holidays from the response\n",
        "  holidays = data['response']['holidays']\n",
        "\n",
        "  # Printing the holiday name and date in a list format\n",
        "  counter = 0\n",
        "  dates = []\n",
        "  for holiday in holidays:\n",
        "    counter += 1\n",
        "    name = holiday['name']\n",
        "    date = f\"{holiday['date']['datetime']['year']:04d}-{holiday['date']['datetime']['month']:02d}-{holiday['date']['datetime']['day']:02d}\"\n",
        "    dates.append(date)\n",
        "    print(f\"{counter}) {name}, Date: {date}\")\n",
        "  return dates #further used to pass to Amandeus API and retrieve flight tickets information\n",
        ""
      ],
      "metadata": {
        "id": "zUKLy-A65roh"
      },
      "execution_count": 77,
      "outputs": []
    },
    {
      "cell_type": "code",
      "source": [
        "import requests\n",
        "from bs4 import BeautifulSoup\n",
        "\n",
        "#Function to find IATA airport codes based on city or country name  (Resource: https://stackoverflow.com/questions/62494384/finding-name-and-codes-of-all-airports)\n",
        "def get_iata_codes(country_name):\n",
        "  # Fetch the page\n",
        "  page = requests.get('http://www.airportcodes.org/')\n",
        "  soup = BeautifulSoup(page.text, 'lxml')\n",
        "\n",
        "  # Find the div or table containing the IATA codes and country names\n",
        "  # Assuming there's a div with class \"i1\" where this data is stored\n",
        "  table = soup.find('div', attrs={\"class\": \"i1\"})\n",
        "  # print(table)\n",
        "\n",
        "  # Initialize a list to store the country names and IATA codes\n",
        "  iata_codes = []\n",
        "\n",
        "  # Assuming that the content inside the div is in the format \"City, Country (IATA Code)\"\n",
        "  for line in table.text.splitlines():\n",
        "      line = line.strip()  # Remove leading/trailing whitespace\n",
        "      if line:  # If the line is not empty\n",
        "          # Split the text into the city-country part and the IATA code part\n",
        "          parts = line.split('(')\n",
        "          if len(parts) == 2:\n",
        "              location = parts[0].strip()  # City, Country\n",
        "              iata_code = parts[1].strip(')')  # IATA Code without parentheses\n",
        "              iata_codes.append((location, iata_code))\n",
        "  # print(iata_codes)\n",
        "\n",
        "  # Filter by country name or city name (for example, \"Russia\")\n",
        "  for location, iata_code in iata_codes:\n",
        "      if country_name in location:\n",
        "          print(f\"{location}, IATA Code: {iata_code}\")\n",
        "          return iata_code\n"
      ],
      "metadata": {
        "id": "Jon-910SXfqe"
      },
      "execution_count": 83,
      "outputs": []
    },
    {
      "cell_type": "code",
      "source": [
        "#Function to retrieve information from Amadeus API based on user's input of origin city, destination and holiday dates from Calenarific API\n",
        "def get_flight_data(origin_code, destination_code, date):\n",
        "  url = f\"https://test.api.amadeus.com/v2/shopping/flight-offers?originLocationCode={origin_code}&destinationLocationCode={destination_code}&departureDate={date}&adults=1&nonStop=false&max=3\"\n",
        "  access_token = get_access_token()\n",
        "  headers = {\n",
        "      \"Authorization\": f\"Bearer {access_token}\"\n",
        "  }\n",
        "  response = requests.get(url, headers=headers)\n",
        "  data = response.json()\n",
        "\n",
        "  # Extracting required details\n",
        "  if data['data'] != []:\n",
        "    departure_airport = data['data'][0]['itineraries'][0]['segments'][0]['departure']['iataCode']\n",
        "    arrival_airport = data['data'][0]['itineraries'][0]['segments'][-1]['arrival']['iataCode']\n",
        "    departure_date = data['data'][0]['itineraries'][0]['segments'][0]['departure']['at'][:10]  # Just taking date part\n",
        "    total_price = data['data'][0]['price']['total']\n",
        "    currency = data['dictionaries']['currencies']['EUR']\n",
        "\n",
        "    # Creating the sentence\n",
        "    sentence = f\"The flight departs from {departure_airport} and arrives at {arrival_airport} on {departure_date}. The total price is {total_price} {currency}.\"\n",
        "    print(sentence)\n",
        "  else:  #Error handling in case flights are not found\n",
        "    print(\"No flights found for the given criteria. Potential reason: outdated or incorrect IATA code information\")"
      ],
      "metadata": {
        "id": "4FkpMoo6AHax"
      },
      "execution_count": 110,
      "outputs": []
    },
    {
      "cell_type": "code",
      "source": [
        "1#Putting everything together to create a feature\n",
        "\n",
        "import requests\n",
        "print(\"Please search for future dates (this year or upcoming year)!\\n\")\n",
        "input_year = input(\"Enter a year (YYYY): \")\n",
        "input_month = input(\"Enter a month (1-12): \")\n",
        "country = input(\"Enter a country name: \")\n",
        "country_code = country_codes.get(country)\n",
        "# print(country_code)\n",
        "dates = get_holiday_data(country_code, input_year, input_month)\n",
        "\n",
        "origin_city = input(\"Enter the origin city: \")\n",
        "destination_city = input(\"Enter the destination city: \")\n",
        "\n",
        "origin_code = get_iata_codes(origin_city)\n",
        "destination_code = get_iata_codes(destination_city)\n",
        "\n",
        "for date in dates:\n",
        "  print(date)\n",
        "  get_flight_data(origin_code, destination_code, date)\n",
        "\n",
        "date_free = input(\"Enter a date to compare (YYYY-MM-DD): \")\n",
        "get_flight_data(origin_code, destination_code, date_free)\n",
        "\n"
      ],
      "metadata": {
        "colab": {
          "base_uri": "https://localhost:8080/"
        },
        "id": "lhMEANQgOVfw",
        "outputId": "295ab2d6-8c9a-4546-dcc2-d8e3f7b7ac39"
      },
      "execution_count": 112,
      "outputs": [
        {
          "output_type": "stream",
          "name": "stdout",
          "text": [
            "Please search for future dates (this year or upcoming year)!\n",
            "\n",
            "Enter a year (YYYY): 2024\n",
            "Enter a month (1-12): 12\n",
            "Enter a country name: Russia\n",
            "1) December Solstice, Date: 2024-12-21\n",
            "2) Working Day, Date: 2024-12-28\n",
            "3) New Year Holiday, Date: 2024-12-30\n",
            "4) New Year Holiday, Date: 2024-12-31\n",
            "Enter the origin city: Moscow\n",
            "Enter the destination city: Rome\n",
            "Moscow, Russia - all locations, IATA Code: MOW\n",
            "Rome, Italy - All airports, IATA Code: ROM\n",
            "2024-12-21\n",
            "The flight departs from VKO and arrives at FCO on 2024-12-21. The total price is 374.46 EURO.\n",
            "2024-12-28\n",
            "The flight departs from DME and arrives at FCO on 2024-12-28. The total price is 378.10 EURO.\n",
            "2024-12-30\n",
            "The flight departs from DME and arrives at FCO on 2024-12-30. The total price is 350.50 EURO.\n",
            "2024-12-31\n",
            "The flight departs from DME and arrives at FCO on 2024-12-31. The total price is 350.50 EURO.\n",
            "Enter a date to compare (YYYY-MM-DD): 2024-12-15\n",
            "The flight departs from DME and arrives at FCO on 2024-12-15. The total price is 378.10 EURO.\n"
          ]
        }
      ]
    }
  ]
}